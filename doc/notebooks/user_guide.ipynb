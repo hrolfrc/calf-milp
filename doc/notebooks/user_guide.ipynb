{
 "cells": [
  {
   "cell_type": "markdown",
   "source": [
    "# User Guide"
   ],
   "metadata": {
    "collapsed": false
   },
   "id": "7fe65bfee78fc2e"
  },
  {
   "cell_type": "markdown",
   "source": [
    "## Make a classification problem"
   ],
   "metadata": {
    "collapsed": false
   },
   "id": "c538ed0f41b012f9"
  },
  {
   "cell_type": "code",
   "execution_count": 1,
   "outputs": [],
   "source": [
    "from sklearn.datasets import make_classification\n",
    "from sklearn.model_selection import train_test_split\n",
    "import numpy as np\n",
    "import pandas as pd\n",
    "from sklearn.metrics import roc_auc_score\n",
    "from calf_milp import CalfMilp"
   ],
   "metadata": {
    "collapsed": false,
    "ExecuteTime": {
     "end_time": "2023-08-07T17:14:30.309608473Z",
     "start_time": "2023-08-07T17:14:29.473447459Z"
    }
   },
   "id": "e0086210b83669d0"
  },
  {
   "cell_type": "code",
   "execution_count": 2,
   "outputs": [],
   "source": [
    "seed = 45\n",
    "X, y = make_classification(\n",
    "    n_samples=100,\n",
    "    n_features=5,\n",
    "    n_informative=2,\n",
    "    n_redundant=2,\n",
    "    n_classes=2,\n",
    "    random_state=seed\n",
    ")\n",
    "X_train, X_test, y_train, y_test = train_test_split(X, y, random_state=seed)"
   ],
   "metadata": {
    "collapsed": false,
    "ExecuteTime": {
     "end_time": "2023-08-07T17:14:30.357352596Z",
     "start_time": "2023-08-07T17:14:30.313509592Z"
    }
   },
   "id": "4adbce2254d583d7"
  },
  {
   "cell_type": "markdown",
   "source": [
    "### Train the classifier "
   ],
   "metadata": {
    "collapsed": false
   },
   "id": "6d7acc28314d7e45"
  },
  {
   "cell_type": "code",
   "execution_count": 3,
   "outputs": [],
   "source": [
    "cls = CalfMilp().fit(X_train, y_train)"
   ],
   "metadata": {
    "collapsed": false,
    "ExecuteTime": {
     "end_time": "2023-08-07T17:14:30.443832188Z",
     "start_time": "2023-08-07T17:14:30.339067242Z"
    }
   },
   "id": "cf2fea8fec9e6831"
  },
  {
   "cell_type": "markdown",
   "source": [
    "#### Get the score for class prediction on unseen data"
   ],
   "metadata": {
    "collapsed": false
   },
   "id": "c06b28f1bf885c96"
  },
  {
   "cell_type": "code",
   "execution_count": 4,
   "outputs": [
    {
     "data": {
      "text/plain": "0.92"
     },
     "execution_count": 4,
     "metadata": {},
     "output_type": "execute_result"
    }
   ],
   "source": [
    "cls.score(X_test, y_test)"
   ],
   "metadata": {
    "collapsed": false,
    "ExecuteTime": {
     "end_time": "2023-08-07T17:14:30.540384543Z",
     "start_time": "2023-08-07T17:14:30.452800982Z"
    }
   },
   "id": "c78a9585062c673b"
  },
  {
   "cell_type": "markdown",
   "source": [
    "#### Class probabilities\n",
    "We vertically stack the ground truth on the top with the probabilities of class 1 on the bottom.\n",
    "The first five entries are shown. "
   ],
   "metadata": {
    "collapsed": false
   },
   "id": "a66e9f2d358264a0"
  },
  {
   "cell_type": "code",
   "execution_count": 5,
   "outputs": [
    {
     "data": {
      "text/plain": "array([[1.  , 1.  , 0.  , 0.  , 0.  ],\n       [0.23, 0.45, 1.  , 0.78, 0.75],\n       [0.77, 0.55, 0.  , 0.22, 0.25]])"
     },
     "execution_count": 5,
     "metadata": {},
     "output_type": "execute_result"
    }
   ],
   "source": [
    "np.round(np.vstack((y_train, cls.predict_proba(X_train).T))[:, 0:5], 2)"
   ],
   "metadata": {
    "collapsed": false,
    "ExecuteTime": {
     "end_time": "2023-08-07T17:14:30.541190560Z",
     "start_time": "2023-08-07T17:14:30.497633650Z"
    }
   },
   "id": "9a852edcf1e82fc4"
  },
  {
   "cell_type": "code",
   "execution_count": 6,
   "outputs": [
    {
     "data": {
      "text/plain": "0.9751066856330014"
     },
     "execution_count": 6,
     "metadata": {},
     "output_type": "execute_result"
    }
   ],
   "source": [
    "roc_auc_score(y_true=y_train, y_score=cls.predict_proba(X_train)[:, 1])"
   ],
   "metadata": {
    "collapsed": false,
    "ExecuteTime": {
     "end_time": "2023-08-07T17:14:30.541802920Z",
     "start_time": "2023-08-07T17:14:30.497954730Z"
    }
   },
   "id": "3d8df12cf4b8d71b"
  },
  {
   "cell_type": "markdown",
   "source": [
    "#### Predict the classes\n",
    "The ground truth is on the top and the predicted classes are on the bottom.\n",
    "The first five entries are shown."
   ],
   "metadata": {
    "collapsed": false
   },
   "id": "e2508ca0395a11df"
  },
  {
   "cell_type": "code",
   "execution_count": 7,
   "outputs": [
    {
     "data": {
      "text/plain": "array([[0, 0, 0, 1, 0],\n       [0, 0, 0, 1, 0]])"
     },
     "execution_count": 7,
     "metadata": {},
     "output_type": "execute_result"
    }
   ],
   "source": [
    "y_pred = cls.predict(X_test)\n",
    "np.vstack((y_test, y_pred))[:, 0:5]"
   ],
   "metadata": {
    "collapsed": false,
    "ExecuteTime": {
     "end_time": "2023-08-07T17:14:30.542410202Z",
     "start_time": "2023-08-07T17:14:30.498267765Z"
    }
   },
   "id": "666ea2911df7c460"
  },
  {
   "cell_type": "markdown",
   "source": [
    "The class prediction is expected to be lower than the auc prediction."
   ],
   "metadata": {
    "collapsed": false
   },
   "id": "e624774923901e9"
  },
  {
   "cell_type": "code",
   "execution_count": 8,
   "outputs": [
    {
     "data": {
      "text/plain": "0.9198717948717948"
     },
     "execution_count": 8,
     "metadata": {},
     "output_type": "execute_result"
    }
   ],
   "source": [
    "roc_auc_score(y_true=y_test, y_score=y_pred)"
   ],
   "metadata": {
    "collapsed": false,
    "ExecuteTime": {
     "end_time": "2023-08-07T17:14:30.543142562Z",
     "start_time": "2023-08-07T17:14:30.498628941Z"
    }
   },
   "id": "da9034d3e21744e3"
  }
 ],
 "metadata": {
  "kernelspec": {
   "display_name": "Python 3",
   "language": "python",
   "name": "python3"
  },
  "language_info": {
   "codemirror_mode": {
    "name": "ipython",
    "version": 2
   },
   "file_extension": ".py",
   "mimetype": "text/x-python",
   "name": "python",
   "nbconvert_exporter": "python",
   "pygments_lexer": "ipython2",
   "version": "2.7.6"
  }
 },
 "nbformat": 4,
 "nbformat_minor": 5
}
